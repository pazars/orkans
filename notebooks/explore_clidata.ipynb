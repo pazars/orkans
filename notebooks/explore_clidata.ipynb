{
 "cells": [
  {
   "cell_type": "code",
   "execution_count": 7,
   "metadata": {},
   "outputs": [],
   "source": [
    "import os\n",
    "import sys\n",
    "\n",
    "import pandas as pd\n",
    "\n",
    "from datetime import datetime\n",
    "\n",
    "clidata_script_path = \"C:/Users/davis.pazars/Documents/orkans/etc\"\n",
    "sys.path.append(clidata_script_path)\n",
    "\n",
    "import clidata\n"
   ]
  },
  {
   "cell_type": "code",
   "execution_count": 4,
   "metadata": {},
   "outputs": [
    {
     "data": {
      "text/html": [
       "<div>\n",
       "<style scoped>\n",
       "    .dataframe tbody tr th:only-of-type {\n",
       "        vertical-align: middle;\n",
       "    }\n",
       "\n",
       "    .dataframe tbody tr th {\n",
       "        vertical-align: top;\n",
       "    }\n",
       "\n",
       "    .dataframe thead th {\n",
       "        text-align: right;\n",
       "    }\n",
       "</style>\n",
       "<table border=\"1\" class=\"dataframe\">\n",
       "  <thead>\n",
       "    <tr style=\"text-align: right;\">\n",
       "      <th></th>\n",
       "      <th>EG_GH_ID</th>\n",
       "      <th>DDMMYYYY</th>\n",
       "      <th>TIME</th>\n",
       "      <th>VALUE</th>\n",
       "    </tr>\n",
       "  </thead>\n",
       "  <tbody>\n",
       "    <tr>\n",
       "      <th>0</th>\n",
       "      <td>XZVOLSUD</td>\n",
       "      <td>2023-01-01</td>\n",
       "      <td>23:00</td>\n",
       "      <td>0.0</td>\n",
       "    </tr>\n",
       "    <tr>\n",
       "      <th>1</th>\n",
       "      <td>XZVOLSUD</td>\n",
       "      <td>2023-01-02</td>\n",
       "      <td>23:00</td>\n",
       "      <td>0.0</td>\n",
       "    </tr>\n",
       "    <tr>\n",
       "      <th>2</th>\n",
       "      <td>XZVOLSUD</td>\n",
       "      <td>2023-01-03</td>\n",
       "      <td>23:00</td>\n",
       "      <td>0.0</td>\n",
       "    </tr>\n",
       "    <tr>\n",
       "      <th>3</th>\n",
       "      <td>XZVOLSUD</td>\n",
       "      <td>2023-01-04</td>\n",
       "      <td>23:00</td>\n",
       "      <td>1.0</td>\n",
       "    </tr>\n",
       "    <tr>\n",
       "      <th>4</th>\n",
       "      <td>XZVOLSUD</td>\n",
       "      <td>2023-01-05</td>\n",
       "      <td>23:00</td>\n",
       "      <td>0.0</td>\n",
       "    </tr>\n",
       "  </tbody>\n",
       "</table>\n",
       "</div>"
      ],
      "text/plain": [
       "   EG_GH_ID   DDMMYYYY   TIME  VALUE\n",
       "0  XZVOLSUD 2023-01-01  23:00    0.0\n",
       "1  XZVOLSUD 2023-01-02  23:00    0.0\n",
       "2  XZVOLSUD 2023-01-03  23:00    0.0\n",
       "3  XZVOLSUD 2023-01-04  23:00    1.0\n",
       "4  XZVOLSUD 2023-01-05  23:00    0.0"
      ]
     },
     "execution_count": 4,
     "metadata": {},
     "output_type": "execute_result"
    }
   ],
   "source": [
    "query = \"\"\"\n",
    "    select eg_gh_id, ddmmyyyy, time, value\n",
    "    from v_day\n",
    "    where\n",
    "        eg_gh_id like 'XZV%'\n",
    "        and eg_el_abbreviation = 'HPRAB'\n",
    "        and year >= 2021\n",
    "\"\"\"\n",
    "\n",
    "data = clidata.clidata_query(query)\n",
    "\n",
    "data.head()\n"
   ]
  },
  {
   "cell_type": "code",
   "execution_count": 5,
   "metadata": {},
   "outputs": [
    {
     "data": {
      "text/plain": [
       "(82432, 4)"
      ]
     },
     "execution_count": 5,
     "metadata": {},
     "output_type": "execute_result"
    }
   ],
   "source": [
    "data.shape\n"
   ]
  },
  {
   "cell_type": "code",
   "execution_count": 6,
   "metadata": {},
   "outputs": [
    {
     "data": {
      "text/plain": [
       "EG_GH_ID            object\n",
       "DDMMYYYY    datetime64[ns]\n",
       "TIME                object\n",
       "VALUE              float64\n",
       "dtype: object"
      ]
     },
     "execution_count": 6,
     "metadata": {},
     "output_type": "execute_result"
    }
   ],
   "source": [
    "data.dtypes\n"
   ]
  },
  {
   "cell_type": "code",
   "execution_count": 32,
   "metadata": {},
   "outputs": [
    {
     "data": {
      "text/html": [
       "<div>\n",
       "<style scoped>\n",
       "    .dataframe tbody tr th:only-of-type {\n",
       "        vertical-align: middle;\n",
       "    }\n",
       "\n",
       "    .dataframe tbody tr th {\n",
       "        vertical-align: top;\n",
       "    }\n",
       "\n",
       "    .dataframe thead th {\n",
       "        text-align: right;\n",
       "    }\n",
       "</style>\n",
       "<table border=\"1\" class=\"dataframe\">\n",
       "  <thead>\n",
       "    <tr style=\"text-align: right;\">\n",
       "      <th></th>\n",
       "      <th>EG_GH_ID</th>\n",
       "      <th>DDMMYYYY</th>\n",
       "      <th>TIME</th>\n",
       "      <th>VALUE</th>\n",
       "      <th>datetime</th>\n",
       "    </tr>\n",
       "  </thead>\n",
       "  <tbody>\n",
       "    <tr>\n",
       "      <th>0</th>\n",
       "      <td>XZVOLSUD</td>\n",
       "      <td>2023-01-01</td>\n",
       "      <td>23:00</td>\n",
       "      <td>0.0</td>\n",
       "      <td>2023-01-01 23:00:00</td>\n",
       "    </tr>\n",
       "    <tr>\n",
       "      <th>1</th>\n",
       "      <td>XZVOLSUD</td>\n",
       "      <td>2023-01-02</td>\n",
       "      <td>23:00</td>\n",
       "      <td>0.0</td>\n",
       "      <td>2023-01-02 23:00:00</td>\n",
       "    </tr>\n",
       "    <tr>\n",
       "      <th>2</th>\n",
       "      <td>XZVOLSUD</td>\n",
       "      <td>2023-01-03</td>\n",
       "      <td>23:00</td>\n",
       "      <td>0.0</td>\n",
       "      <td>2023-01-03 23:00:00</td>\n",
       "    </tr>\n",
       "    <tr>\n",
       "      <th>3</th>\n",
       "      <td>XZVOLSUD</td>\n",
       "      <td>2023-01-04</td>\n",
       "      <td>23:00</td>\n",
       "      <td>1.0</td>\n",
       "      <td>2023-01-04 23:00:00</td>\n",
       "    </tr>\n",
       "    <tr>\n",
       "      <th>4</th>\n",
       "      <td>XZVOLSUD</td>\n",
       "      <td>2023-01-05</td>\n",
       "      <td>23:00</td>\n",
       "      <td>0.0</td>\n",
       "      <td>2023-01-05 23:00:00</td>\n",
       "    </tr>\n",
       "  </tbody>\n",
       "</table>\n",
       "</div>"
      ],
      "text/plain": [
       "   EG_GH_ID   DDMMYYYY   TIME  VALUE            datetime\n",
       "0  XZVOLSUD 2023-01-01  23:00    0.0 2023-01-01 23:00:00\n",
       "1  XZVOLSUD 2023-01-02  23:00    0.0 2023-01-02 23:00:00\n",
       "2  XZVOLSUD 2023-01-03  23:00    0.0 2023-01-03 23:00:00\n",
       "3  XZVOLSUD 2023-01-04  23:00    1.0 2023-01-04 23:00:00\n",
       "4  XZVOLSUD 2023-01-05  23:00    0.0 2023-01-05 23:00:00"
      ]
     },
     "execution_count": 32,
     "metadata": {},
     "output_type": "execute_result"
    }
   ],
   "source": [
    "datetime_str = data[\"DDMMYYYY\"].dt.strftime(\"%Y-%m-%d\") + \" \" + data[\"TIME\"]\n",
    "data[\"datetime\"] = pd.to_datetime(datetime_str)\n",
    "\n",
    "data.head()\n"
   ]
  },
  {
   "cell_type": "code",
   "execution_count": 31,
   "metadata": {},
   "outputs": [
    {
     "data": {
      "text/plain": [
       "0"
      ]
     },
     "execution_count": 31,
     "metadata": {},
     "output_type": "execute_result"
    }
   ],
   "source": [
    "data[\"datetime\"].isnull().sum()\n"
   ]
  },
  {
   "cell_type": "code",
   "execution_count": 37,
   "metadata": {},
   "outputs": [
    {
     "data": {
      "text/html": [
       "<div>\n",
       "<style scoped>\n",
       "    .dataframe tbody tr th:only-of-type {\n",
       "        vertical-align: middle;\n",
       "    }\n",
       "\n",
       "    .dataframe tbody tr th {\n",
       "        vertical-align: top;\n",
       "    }\n",
       "\n",
       "    .dataframe thead th {\n",
       "        text-align: right;\n",
       "    }\n",
       "</style>\n",
       "<table border=\"1\" class=\"dataframe\">\n",
       "  <thead>\n",
       "    <tr style=\"text-align: right;\">\n",
       "      <th></th>\n",
       "      <th>EG_GH_ID</th>\n",
       "      <th>DDMMYYYY</th>\n",
       "      <th>TIME</th>\n",
       "      <th>VALUE</th>\n",
       "      <th>datetime</th>\n",
       "    </tr>\n",
       "  </thead>\n",
       "  <tbody>\n",
       "    <tr>\n",
       "      <th>0</th>\n",
       "      <td>XZVFRSND</td>\n",
       "      <td>2022-02-01</td>\n",
       "      <td>05:00</td>\n",
       "      <td>NaN</td>\n",
       "      <td>2022-02-01 05:00:00</td>\n",
       "    </tr>\n",
       "    <tr>\n",
       "      <th>1</th>\n",
       "      <td>XZVFRSND</td>\n",
       "      <td>2022-02-01</td>\n",
       "      <td>11:00</td>\n",
       "      <td>NaN</td>\n",
       "      <td>2022-02-01 11:00:00</td>\n",
       "    </tr>\n",
       "    <tr>\n",
       "      <th>2</th>\n",
       "      <td>XZVFRSND</td>\n",
       "      <td>2022-02-01</td>\n",
       "      <td>17:00</td>\n",
       "      <td>NaN</td>\n",
       "      <td>2022-02-01 17:00:00</td>\n",
       "    </tr>\n",
       "    <tr>\n",
       "      <th>3</th>\n",
       "      <td>XZVFRSND</td>\n",
       "      <td>2022-02-01</td>\n",
       "      <td>23:00</td>\n",
       "      <td>NaN</td>\n",
       "      <td>2022-02-01 23:00:00</td>\n",
       "    </tr>\n",
       "    <tr>\n",
       "      <th>4</th>\n",
       "      <td>XZVFRSND</td>\n",
       "      <td>2022-02-02</td>\n",
       "      <td>05:00</td>\n",
       "      <td>NaN</td>\n",
       "      <td>2022-02-02 05:00:00</td>\n",
       "    </tr>\n",
       "  </tbody>\n",
       "</table>\n",
       "</div>"
      ],
      "text/plain": [
       "   EG_GH_ID   DDMMYYYY   TIME  VALUE            datetime\n",
       "0  XZVFRSND 2022-02-01  05:00    NaN 2022-02-01 05:00:00\n",
       "1  XZVFRSND 2022-02-01  11:00    NaN 2022-02-01 11:00:00\n",
       "2  XZVFRSND 2022-02-01  17:00    NaN 2022-02-01 17:00:00\n",
       "3  XZVFRSND 2022-02-01  23:00    NaN 2022-02-01 23:00:00\n",
       "4  XZVFRSND 2022-02-02  05:00    NaN 2022-02-02 05:00:00"
      ]
     },
     "execution_count": 37,
     "metadata": {},
     "output_type": "execute_result"
    }
   ],
   "source": [
    "data.sort_values(\n",
    "    by=[\"EG_GH_ID\", \"datetime\"], ascending=[True, True]\n",
    ").head().reset_index(drop=True)\n"
   ]
  },
  {
   "cell_type": "code",
   "execution_count": 23,
   "metadata": {},
   "outputs": [
    {
     "data": {
      "text/plain": [
       "Rolling [window=2,center=False,axis=0,on=datetime,method=single]"
      ]
     },
     "execution_count": 23,
     "metadata": {},
     "output_type": "execute_result"
    }
   ],
   "source": [
    "data.rolling(2, on=\"datetime\")\n"
   ]
  }
 ],
 "metadata": {
  "kernelspec": {
   "display_name": "nwc",
   "language": "python",
   "name": "python3"
  },
  "language_info": {
   "codemirror_mode": {
    "name": "ipython",
    "version": 3
   },
   "file_extension": ".py",
   "mimetype": "text/x-python",
   "name": "python",
   "nbconvert_exporter": "python",
   "pygments_lexer": "ipython3",
   "version": "3.10.9"
  },
  "orig_nbformat": 4,
  "vscode": {
   "interpreter": {
    "hash": "f21c4da9e227acebf4435e748adf66a4936b434c343e1bc1f87693e113f8f289"
   }
  }
 },
 "nbformat": 4,
 "nbformat_minor": 2
}
