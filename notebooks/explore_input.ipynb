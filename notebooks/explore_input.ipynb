{
 "cells": [
  {
   "cell_type": "code",
   "execution_count": 1,
   "metadata": {},
   "outputs": [
    {
     "name": "stdout",
     "output_type": "stream",
     "text": [
      "Pysteps configuration file found at: c:\\Users\\davis.pazars\\AppData\\Local\\miniconda3\\envs\\nwc-test3\\lib\\site-packages\\pysteps\\pystepsrc\n",
      "\n"
     ]
    }
   ],
   "source": [
    "import os\n",
    "import sys\n",
    "\n",
    "from datetime import datetime, timedelta\n",
    "\n",
    "import pandas as pd\n",
    "import matplotlib.pyplot as plt\n",
    "\n",
    "from pysteps import io, rcparams\n",
    "from pysteps.utils import conversion, dimension, transformation, clip_domain\n",
    "from pysteps.visualization import plot_precip_field\n",
    "\n",
    "# Orkans path\n",
    "path = \"C:/Users/davis.pazars/Documents/orkans\"\n",
    "sys.path.append(path)\n",
    "\n",
    "from orkans import events\n"
   ]
  },
  {
   "cell_type": "code",
   "execution_count": 2,
   "metadata": {},
   "outputs": [],
   "source": [
    "date_str = \"2022-09-01\"\n",
    "hour_str = \"21:00\"\n",
    "n_forw_steps = 8\n",
    "\n",
    "domain = (2.284e6, 2.622e6, -1.955e6, -1.664e6)\n",
    "\n",
    "data_src_key = \"opera_meteo_france\"\n",
    "\n",
    "img_dir = \"C:/Users/davis.pazars/Desktop/nokrisni\"\n"
   ]
  },
  {
   "cell_type": "code",
   "execution_count": 3,
   "metadata": {},
   "outputs": [],
   "source": [
    "date = datetime.strptime(f\"{date_str} {hour_str}\", \"%Y-%m-%d %H:%M\")\n",
    "# date = datetime.strptime(\"202205050245\", \"%Y%m%d%H%M\")\n",
    "\n",
    "data_source = rcparams.data_sources[data_src_key]\n",
    "root_path = data_source[\"root_path\"]\n",
    "path_fmt = data_source[\"path_fmt\"]\n",
    "fn_pattern = data_source[\"fn_pattern\"]\n",
    "fn_ext = data_source[\"fn_ext\"]\n",
    "importer_name = data_source[\"importer\"]\n",
    "importer_kwargs = data_source[\"importer_kwargs\"]\n",
    "timestep = data_source[\"timestep\"]\n",
    "\n",
    "\n",
    "# Find the input files from the archive\n",
    "fns = io.archive.find_by_date(\n",
    "    date,\n",
    "    root_path,\n",
    "    path_fmt,\n",
    "    fn_pattern,\n",
    "    fn_ext,\n",
    "    timestep,\n",
    "    num_next_files=n_forw_steps,\n",
    ")\n",
    "\n",
    "# Read the radar composites\n",
    "importer = io.get_method(importer_name, \"importer\")\n",
    "# read data, quality rasters, metadata\n",
    "R, _, metadata = io.read_timeseries(fns, importer, **importer_kwargs)\n",
    "\n",
    "# Convert reflectivity to rain rate\n",
    "rainrate, metadata = conversion.to_rainrate(R, metadata)\n"
   ]
  },
  {
   "cell_type": "code",
   "execution_count": 7,
   "metadata": {},
   "outputs": [
    {
     "data": {
      "text/plain": [
       "<GeoAxes: >"
      ]
     },
     "execution_count": 7,
     "metadata": {},
     "output_type": "execute_result"
    }
   ],
   "source": [
    "%matplotlib qt\n",
    "R.shape\n",
    "haha, hahadata = clip_domain(R, metadata=metadata, extent=(2.192e6, 3.082e6, -2.269e6, -1.278e6))\n",
    "haha.shape\n",
    "plot_precip_field(haha[-1, :, :], geodata=hahadata)\n",
    "# plot_precip_field(R[-1, :, :], geodata=metadata)"
   ]
  },
  {
   "cell_type": "code",
   "execution_count": null,
   "metadata": {},
   "outputs": [],
   "source": [
    "date_str = \"2021-01-05\"\n",
    "date = datetime.strptime(f\"{date_str} 00:00\", \"%Y-%m-%d %H:%M\")\n",
    "tstep = timedelta(minutes=15)\n",
    "max_iter = 100  # 24 hours * 4 images/hour = 96 images\n",
    "current_iter = 0\n",
    "\n",
    "results = pd.DataFrame(columns=[\"datetime\", \"region_id\", \"max_rrate\"])\n",
    "\n",
    "while date.day == 5 and current_iter < max_iter:\n",
    "\n",
    "    res = events.process_event(date, data_src_key)\n",
    "    res[\"datetime\"] = pd.to_datetime(res[\"datetime\"])\n",
    "    res[\"datetime\"] = res[\"datetime\"].dt.floor(\"h\")\n",
    "\n",
    "    results = pd.concat([results, res])\n",
    "\n",
    "    date += tstep\n",
    "    current_iter += 1\n"
   ]
  },
  {
   "cell_type": "code",
   "execution_count": null,
   "metadata": {},
   "outputs": [],
   "source": [
    "results.groupby([\"region_id\", \"datetime\"]).sum(\"max_rrate\").sort_values(\n",
    "    by=[\"region_id\", \"max_rrate\"], ascending=[True, False]\n",
    ").loc[3, :].head(5)\n"
   ]
  },
  {
   "cell_type": "code",
   "execution_count": null,
   "metadata": {},
   "outputs": [],
   "source": [
    "# Clip domain to include only Baltic states\n",
    "R, metadata = clip_domain(R, metadata, extent=domain)\n"
   ]
  },
  {
   "cell_type": "code",
   "execution_count": null,
   "metadata": {},
   "outputs": [],
   "source": [
    "# %matplotlib qt\n",
    "# plot_precip_field(rainrate[-1, :, :], geodata=metadata)\n",
    "\n",
    "pic_dir = f'{img_dir}/{date_str}'\n",
    "if not os.path.exists(pic_dir):\n",
    "    os.mkdir(pic_dir)\n",
    "    \n",
    "date_for_fname = date.strftime(\"%Y%m%d_%H%M\")\n",
    "\n",
    "%matplotlib  inline\n",
    "for tstep in range(R.shape[0]):\n",
    "    plt.figure()\n",
    "    plot_precip_field(R[tstep, :, :], geodata=metadata, axis='off', colorbar=False)\n",
    "    plt.title(f'RADAR: {date_str} {hour_str} + {int(15*tstep)}min')\n",
    "    fname = f\"radar_{date_for_fname}_T{int(tstep*15)}.png\"\n",
    "    fname = f'{pic_dir}/{fname}'\n",
    "    plt.savefig(fname)\n",
    "    plt.gcf()"
   ]
  },
  {
   "cell_type": "code",
   "execution_count": null,
   "metadata": {},
   "outputs": [],
   "source": [
    "for tstep in range(R.shape[0]):\n",
    "    print(R[tstep, :, :][R[tstep, :, :] > 1])\n",
    "    print(\"\")\n",
    "\n",
    "# Basically, there is just very little data above 1mm/hr, that's why the difference\n"
   ]
  }
 ],
 "metadata": {
  "kernelspec": {
   "display_name": "nwc",
   "language": "python",
   "name": "python3"
  },
  "language_info": {
   "codemirror_mode": {
    "name": "ipython",
    "version": 3
   },
   "file_extension": ".py",
   "mimetype": "text/x-python",
   "name": "python",
   "nbconvert_exporter": "python",
   "pygments_lexer": "ipython3",
   "version": "3.10.9"
  },
  "orig_nbformat": 4,
  "vscode": {
   "interpreter": {
    "hash": "f21c4da9e227acebf4435e748adf66a4936b434c343e1bc1f87693e113f8f289"
   }
  }
 },
 "nbformat": 4,
 "nbformat_minor": 2
}
