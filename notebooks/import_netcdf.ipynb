{
 "cells": [
  {
   "cell_type": "code",
   "execution_count": 7,
   "metadata": {},
   "outputs": [],
   "source": [
    "from pysteps.io.nowcast_importers import import_netcdf_pysteps\n"
   ]
  },
  {
   "cell_type": "code",
   "execution_count": 8,
   "metadata": {},
   "outputs": [],
   "source": [
    "path = \"C:/Users/davis.pazars/Documents/orkans/results/netcdf/test_202301182315.nc\"\n",
    "data, mdata = import_netcdf_pysteps(path)\n"
   ]
  },
  {
   "cell_type": "code",
   "execution_count": 11,
   "metadata": {},
   "outputs": [
    {
     "data": {
      "text/plain": [
       "<class 'netCDF4._netCDF4.Dataset'>\n",
       "root group (NETCDF4 data model, file format HDF5):\n",
       "    Conventions: ODIM_H5/V2_0\n",
       "    dimensions(sizes): \n",
       "    variables(dimensions): \n",
       "    groups: dataset1, dataset2, how, what, where"
      ]
     },
     "execution_count": 11,
     "metadata": {},
     "output_type": "execute_result"
    }
   ],
   "source": [
    "from netCDF4 import Dataset\n",
    "\n",
    "\n",
    "path_example = \"C:/Users/davis.pazars/Downloads/LB.nc\"\n",
    "\n",
    "rootgrp = Dataset(path_example, \"r\", format=\"NETCDF4\")\n",
    "\n",
    "rootgrp\n",
    "\n"
   ]
  },
  {
   "cell_type": "code",
   "execution_count": 12,
   "metadata": {},
   "outputs": [
    {
     "data": {
      "text/plain": [
       "<class 'netCDF4._netCDF4.Dataset'>\n",
       "root group (NETCDF4 data model, file format HDF5):\n",
       "    Conventions: CF-1.7\n",
       "    title: pysteps-generated nowcast\n",
       "    institution: the pySTEPS community (https://pysteps.github.io)\n",
       "    source: pysteps\n",
       "    history: \n",
       "    references: \n",
       "    comment: \n",
       "    projection: +proj=laea +lat_0=55.0 +lon_0=10.0 +x_0=1950000.0 +y_0=-2100000.0 +units=m +ellps=WGS84\n",
       "    dimensions(sizes): ens_number(1), time(1), y(119), x(204)\n",
       "    variables(dimensions): float32 x(x), float32 y(y), float64 lon(y, x), float64 lat(y, x), int32 ens_number(ens_number), int32 time(time), float32 precip_intensity(ens_number, time, y, x)\n",
       "    groups: "
      ]
     },
     "execution_count": 12,
     "metadata": {},
     "output_type": "execute_result"
    }
   ],
   "source": [
    "from netCDF4 import Dataset\n",
    "\n",
    "rootgrp2 = Dataset(path, \"r\", format=\"NETCDF4\")\n",
    "\n",
    "rootgrp2\n"
   ]
  },
  {
   "cell_type": "code",
   "execution_count": 3,
   "metadata": {},
   "outputs": [
    {
     "data": {
      "text/plain": [
       "(119, 204)"
      ]
     },
     "execution_count": 3,
     "metadata": {},
     "output_type": "execute_result"
    }
   ],
   "source": [
    "data.shape\n"
   ]
  },
  {
   "cell_type": "code",
   "execution_count": 4,
   "metadata": {},
   "outputs": [
    {
     "data": {
      "text/plain": [
       "{'leadtimes': masked_array(data=[15.0],\n",
       "              mask=[False],\n",
       "        fill_value=1e+20),\n",
       " 'timestamps': masked_array(data=[cftime.DatetimeGregorian(2023, 1, 18, 22, 45, 0, 0, has_year_zero=False)],\n",
       "              mask=False,\n",
       "        fill_value='?',\n",
       "             dtype=object),\n",
       " 'xpixelsize': 2004.75,\n",
       " 'ypixelsize': 2000.0,\n",
       " 'x1': 2600000.125,\n",
       " 'y1': -1719000.0,\n",
       " 'x2': 3008999.875,\n",
       " 'y2': -1481000.0,\n",
       " 'yorigin': 'upper',\n",
       " 'accutime': None,\n",
       " 'unit': 'mm/h',\n",
       " 'transform': None,\n",
       " 'zerovalue': 0.0,\n",
       " 'threshold': 0.00041666667675599456}"
      ]
     },
     "execution_count": 4,
     "metadata": {},
     "output_type": "execute_result"
    }
   ],
   "source": [
    "mdata\n"
   ]
  },
  {
   "cell_type": "code",
   "execution_count": 5,
   "metadata": {},
   "outputs": [
    {
     "ename": "IndexError",
     "evalue": "too many indices for array: array is 2-dimensional, but 3 were indexed",
     "output_type": "error",
     "traceback": [
      "\u001b[1;31m---------------------------------------------------------------------------\u001b[0m",
      "\u001b[1;31mIndexError\u001b[0m                                Traceback (most recent call last)",
      "Cell \u001b[1;32mIn[5], line 3\u001b[0m\n\u001b[0;32m      1\u001b[0m \u001b[39mfrom\u001b[39;00m \u001b[39mpysteps\u001b[39;00m\u001b[39m.\u001b[39;00m\u001b[39mvisualization\u001b[39;00m \u001b[39mimport\u001b[39;00m plot_precip_field\n\u001b[1;32m----> 3\u001b[0m plot_precip_field(data[\u001b[39m0\u001b[39;49m, :, :])\n",
      "\u001b[1;31mIndexError\u001b[0m: too many indices for array: array is 2-dimensional, but 3 were indexed"
     ]
    }
   ],
   "source": [
    "from pysteps.visualization import plot_precip_field\n",
    "\n",
    "plot_precip_field(data[0, :, :])\n"
   ]
  }
 ],
 "metadata": {
  "kernelspec": {
   "display_name": "nwc",
   "language": "python",
   "name": "python3"
  },
  "language_info": {
   "codemirror_mode": {
    "name": "ipython",
    "version": 3
   },
   "file_extension": ".py",
   "mimetype": "text/x-python",
   "name": "python",
   "nbconvert_exporter": "python",
   "pygments_lexer": "ipython3",
   "version": "3.10.9"
  },
  "orig_nbformat": 4
 },
 "nbformat": 4,
 "nbformat_minor": 2
}
